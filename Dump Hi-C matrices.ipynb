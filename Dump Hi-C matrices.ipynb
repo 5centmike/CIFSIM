{
 "cells": [
  {
   "cell_type": "markdown",
   "metadata": {},
   "source": [
    "# This notebook is a utility for extracting Hi-C interaction data from the .hic format into an IJV format less space efficient but more easily parsed.\n"
   ]
  },
  {
   "cell_type": "code",
   "execution_count": null,
   "metadata": {
    "scrolled": true
   },
   "outputs": [],
   "source": [
    "#instead of loading chromosomes into memory let's jsut make temporary files\n",
    "\n",
    "resolution = 100000 #the binsize resolution at which the hic data will be dumped\n",
    "res = str(resolution)\n",
    "sizefile = \"/Zulu/mike/mm9.chrom.sizes\" #a file containing genome sizes in the format chromosome size\n",
    "\n",
    "\n",
    "sizes = open(sizefile,'r')\n",
    "\n",
    "\n",
    "chrnames = []\n",
    "chrsizes = []\n",
    "for line in sizes:\n",
    "    li = line.split()\n",
    "    chrnames.append(li[0])\n",
    "    chrsizes.append(int(li[1]))\n",
    "\n",
    "sizes.close()\n",
    "\n",
    "#the file in .hic format which will be dumped\n",
    "interactionfile = \"/Zulu/mike/dumped-hic/CH12/GSE63525_CH12_combined_30.hic\"\n",
    "\n",
    "for i in range(len(chrnames)):\n",
    "    chrom1 = chrnames[i]\n",
    "    chrom2 = chrnames[i]\n",
    "    print(\"Dumping: {0} vs {1}\".format(chrom1,chrom2))\n",
    "    untreated_out = \"/Zulu/mike/dumped-hic/CH12/CH12_\"+chrom1+\"_\"+chrom2+\"_\"+str(resolution)+\".txt\"\n",
    "    \n",
    "    #here this line calls on the juicebox_tools.jar file to perform the dumping.\n",
    "    #can be acquired from the Lieberman-Aiden lab website.\n",
    "    ! java -jar /hdisk3/jordan/juicebox_tools.jar dump observed KR $interactionfile $chrom1 $chrom2 BP $res | grep -v INFO | grep -v HiC > $untreated_out\n"
   ]
  }
 ],
 "metadata": {
  "kernelspec": {
   "display_name": "Python 3",
   "language": "python",
   "name": "python3"
  },
  "language_info": {
   "codemirror_mode": {
    "name": "ipython",
    "version": 3
   },
   "file_extension": ".py",
   "mimetype": "text/x-python",
   "name": "python",
   "nbconvert_exporter": "python",
   "pygments_lexer": "ipython3",
   "version": "3.7.4"
  }
 },
 "nbformat": 4,
 "nbformat_minor": 2
}
