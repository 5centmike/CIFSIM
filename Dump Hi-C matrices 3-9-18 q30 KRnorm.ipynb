{
 "cells": [
  {
   "cell_type": "code",
   "execution_count": 6,
   "metadata": {
    "scrolled": true
   },
   "outputs": [
    {
     "name": "stdout",
     "output_type": "stream",
     "text": [
      "['chr1', 'chr2', 'chr3', 'chr4', 'chr5', 'chr6', 'chr7', 'chr8', 'chr9', 'chr10', 'chr11', 'chr12', 'chr13', 'chr14', 'chr15', 'chr16', 'chr17', 'chr18', 'chr19', 'chrX', 'chrY']\n",
      "Dumping: chr1 vs chr1\n",
      "Could not read hic file: null\n",
      "Dumping: chr2 vs chr2\n",
      "Could not read hic file: null\n",
      "Dumping: chr3 vs chr3\n",
      "Could not read hic file: null\n",
      "Dumping: chr4 vs chr4\n",
      "Could not read hic file: null\n",
      "Dumping: chr5 vs chr5\n",
      "Could not read hic file: null\n",
      "Dumping: chr6 vs chr6\n",
      "Could not read hic file: null\n",
      "Dumping: chr7 vs chr7\n",
      "Could not read hic file: null\n",
      "Dumping: chr8 vs chr8\n",
      "Could not read hic file: null\n",
      "Dumping: chr9 vs chr9\n",
      "Could not read hic file: null\n",
      "Dumping: chr10 vs chr10\n",
      "Could not read hic file: null\n",
      "Dumping: chr11 vs chr11\n",
      "Could not read hic file: null\n",
      "Dumping: chr12 vs chr12\n",
      "Could not read hic file: null\n",
      "Dumping: chr13 vs chr13\n",
      "Could not read hic file: null\n",
      "Dumping: chr14 vs chr14\n",
      "Could not read hic file: null\n",
      "Dumping: chr15 vs chr15\n",
      "Could not read hic file: null\n",
      "Dumping: chr16 vs chr16\n",
      "Could not read hic file: null\n",
      "Dumping: chr17 vs chr17\n",
      "Could not read hic file: null\n",
      "Dumping: chr18 vs chr18\n",
      "Could not read hic file: null\n",
      "Dumping: chr19 vs chr19\n",
      "Could not read hic file: null\n",
      "Dumping: chrX vs chrX\n",
      "Could not read hic file: null\n",
      "Dumping: chrY vs chrY\n",
      "Could not read hic file: null\n"
     ]
    }
   ],
   "source": [
    "#instead of loading chromosomes into memory let's jsut make temporary files\n",
    "\n",
    "resolution = 100000\n",
    "res = str(resolution)\n",
    "sizefile = \"/Zulu/mike/mm9.chrom.sizes\"\n",
    "\n",
    "\n",
    "sizes = open(sizefile,'r')\n",
    "\n",
    "\n",
    "chrnames = []\n",
    "chrsizes = []\n",
    "for line in sizes:\n",
    "    li = line.split()\n",
    "    #if li[0] == 'Y' or li[0] == 'MT':\n",
    "    #    continue\n",
    "    #chrnames.append(li[0][3:])\n",
    "    chrnames.append(li[0])\n",
    "    chrsizes.append(int(li[1]))\n",
    "\n",
    "sizes.close()\n",
    "\n",
    "print(chrnames)\n",
    "\n",
    "interactionfile = \"/Zulu/mike/dumped-hic/CH12/GSE63525_CH12_combined_30.hic\"\n",
    "#interactionfile = \"/hdisk6/yoonhee/Sperm_HiC/SPERM_HiC_HindIII_inter_30.hic\"\n",
    "#interactionfile = \"/media/4TB2/hic_repository/rao2014/GM12878_combined.hic\"\n",
    "#interactionfile = \"/media/4TB2/hic_repository/rao2017/GSE104333_Rao-2017-untreated_combined.hic\"\n",
    "#interactionfile = \"/media/4TB2/hic_repository/rao2017/GSE104333_Rao-2017-treated_6hr_combined.hic\"\n",
    "#interactionfile = \"/Zulu/mike/dumped-hic/GSM2795535_Rao-2017-HIC001_30.hic\"\n",
    "#interactionfile = \"/Zulu/mike/dumped-hic/GSM2795536_Rao-2017-HIC002_30.hic\"\n",
    "#interactionfile = \"/media/4TB2/hic_repository/rao2014/GM12878_combined.hic\"\n",
    "#interactionfile = \"/media/4TB5/axel/rao_2014_q30_GM12878_hicFile/GM12878_combined_30.hic\"\n",
    "#interactionfile = \"/media/4TB2/hic_repository/rao2017/GSE104333_Rao-2017-untreated_combined_30.hic\"\n",
    "#interactionfile = \"/mnt/jordan/8TB4/nawg_ultrares/LCL_mega_1k_30.hic\"\n",
    "\n",
    "\n",
    "for i in range(len(chrnames)):\n",
    "    #for j in range(i,len(chrnames)):\n",
    "    chrom1 = chrnames[i]\n",
    "    chrom2 = chrnames[i]\n",
    "    print(\"Dumping: {0} vs {1}\".format(chrom1,chrom2))\n",
    "    #untreated_out = \"/Zulu/mike/dumped-hic/GM12878/GM12878-untreated-q30-KR-dumped\"+chrom1+\"_\"+chrom2+\"_\"+str(resolution)+\".txt\"\n",
    "    #untreated_out = \"/Zulu/mike/dumped-hic/HCT116/HCT116-untreated-q30-KR-dumped\"+chrom1+\"_\"+chrom2+\"_\"+str(resolution)+\".txt\"\n",
    "    untreated_out = \"/Zulu/mike/dumped-hic/CH12/CH12_\"+chrom1+\"_\"+chrom2+\"_\"+str(resolution)+\".txt\"\n",
    "    #untreated_out = \"/Zulu/mike/dumped-hic/LCL/LCL-q30-KR-dumped\"+chrom1+\"_\"+chrom2+\"_\"+str(resolution)+\".txt\"\n",
    "\n",
    "    #untreated_out = \"/Zulu/mike/dumped-hic/HCT116/HCT116-treated-q30-KR-dumped\"+chrom1+\"_\"+chrom2+\"_\"+str(resolution)+\".txt\"\n",
    "\n",
    "\n",
    "    ! java -jar /hdisk3/jordan/juicebox_tools.jar dump observed KR $interactionfile $chrom1 $chrom2 BP $res | grep -v INFO | grep -v HiC > $untreated_out\n",
    "    #! /hdisk3/jordan/juicebox_tools.jar dump observed KR $treatedinteractionfile $chrom $chrom BP $resolution | grep -v HiC > $treated_out"
   ]
  },
  {
   "cell_type": "code",
   "execution_count": 7,
   "metadata": {},
   "outputs": [
    {
     "name": "stdout",
     "output_type": "stream",
     "text": [
      "java -jar /hdisk3/jordan/juicebox_tools.jar dump observed NONE /Zulu/mike/dumped-hic/CH12/GSE63525_CH12_combined_30.hic chrY chrY BP 100000\r\n"
     ]
    }
   ],
   "source": [
    "! echo java -jar /hdisk3/jordan/juicebox_tools.jar dump observed NONE {interactionfile} {chrom1} {chrom2} BP {res}\n"
   ]
  },
  {
   "cell_type": "code",
   "execution_count": 9,
   "metadata": {},
   "outputs": [
    {
     "name": "stdout",
     "output_type": "stream",
     "text": [
      "HIC\u0000\u0007\u0000\u0000\u0000�\u0010�m\u0001\u0000\u0000\u0000mm9\u0000\u0002\u0000\u0000\u0000statistics\u0000Total reads in current file: 422,744,148\r\n",
      "Ligations: 92,307,199 (21.84%)\r\n",
      "Five prime: 273,933,204 (53.93%)\r\n",
      "Three prime: 234,021,570 (46.07%)\r\n",
      "Inter: 95,840,557 (22.67%)\r\n",
      "Intra: 326,903,591 (77.33%)\r\n",
      "Small: 191,298,694 (45.25%)\r\n",
      "Large: 135,603,638 (32.08%)\r\n",
      "Very small: 1,259 (0.00%)\r\n",
      "Inner: 33,866,624 (24.97%) \r\n",
      "Outer: 33,920,733 (25.01%) \r\n",
      "Left: 33,897,104 (25.00%) \r\n",
      "Right: 33,919,177 (25.01%) \r\n",
      "\u0000graphs\u0000A = [\r\n",
      "9 0 0 0 0 0 0 0 0 1 0 0 1 0 0 2 0 1 0 0 0 1 0 0 0 0 1 1 0 0 1 0 0 0 0 0 0 0 0 0 0 0 0 0 0 1 0 0 0 0 0 0 0 0 0 0 0 0 3 0 0 0 0 0 0 0 1 4 9 9 0 11 14 7 9 8 13 12 9 22 43 54 31 11 5 71 43 25 8 6 3 14 6 6 6 10 5 9 10 7 11 3 7 13 13 33 7 5 7 8 9 9 22 16 30 23 7 3 35 9 7 2 29 24 6 15 15 17 24 4 2 2 25 64 11 9 9 18 10 15 9 5 12 9 12 29 15 16 7 8 9 9 32 14 1 6 5 11 12 4 7 7 11 7 0 6 8 9 9 8 8 42 6 10 6 5 11 11 26 12 6 5 11 2 8 24 5 16 5 3 3 8 5 8 10 9 8 11 17 10 4 8 11 6 6 15 13 21 17 4 8 5 9 26 15 10 0 12 18 13 1 3 4 7 1 6 4 1 9 3 1 7 2 2 3 2 6 0 9 5 2 1 2 1 2 6 0 1 2 3 1 0 2 1 2 15 6 0 3 3 1 0 6 1 1 3 0 2 2 2 3 9 1 6 8 1 2 0 1 2 5 2 9 3 7 2 4 2 5 3 4 3 7 3 5 3 6 9 4 2 1 2 3 5 7 0 6 8 14 10 8 0 3 7 8 2 6 4 4 5 2 2 7 4 4 3 4 4 0 3 2 4 3 3 4 3 6 1 2 3 2 5 3 2 3 4 1 3 3 2 4 1 10 7 0 1 7 1 1 2 7 2 2 7 2 7 11 0 3 3 2 0 1 1 0 2 3 4 0 3 2 3 1 2 2 0 4 1 1 0 4 0 2 1 2 3 6 3 0 2 4 1 0 0 0 1 1 1 2 0 0 0 0 0 1 1 2 1 2 1 0 3 1 3 3 1 5 1 2 2 0 0 1 0 3 4 2 1 3 3 0 0 0 0 0 2 1 0 1 0 0 1 2 1 1 0 1 3 1 0 1 1 1 1 0 1 0 2 0 3 1 0 1 1 2 2 1 0 0 0 1 2 1 1 2 0 0 3 0 3 1 2 0 1 1 0 0 1 2 1 0 3 0 0 0 0 2 0 1 0 1 1 0 2 4 2 3 3 1 0 0 0 0 2 1 1 1 0 2 0 0 0 0 0 0 0 0 0 2 0 1 1 1 2 1 0 1 0 0 0 0 0 2 2 2 1 2 0 1 0 0 0 0 1 0 0 0 2 0 0 0 2 0 0 0 0 1 0 1 0 0 1 0 0 0 3 0 1 4 0 0 1 1 1 0 3 1 0 1 1 1 0 0 0 1 0 1 0 0 2 0 0 0 2 4 0 0 2 0 0 7 0 1 1 1 0 0 0 1 1 2 1 0 0 0 0 0 0 2 1 1 0 2 2 1 2 1 0 1 1 1 1 0 0 0 0 1 1 0 1 1 0 2 0 0 2 2 0 1 0 2 0 0 0 4 1 1 0 2 1 1 0 1 1 1 2 2 1 1 0 0 0 1 1 2 0 1 2 0 1 1 0 0 0 1 0 3 0 0 1 2 1 2 0 1 0 0 0 0 0 2 3 3 1 1 1 2 0 2 0 0 0 1 0 0 3 3 1 2 2 0 0 0 1 0 0 1 1 0 1 0 0 1 0 0 0 2 0 0 0 1 2 1 3 1 0 0 0 0 0 0 0 0 2 2 1 0 0 0 1 0 1 1 1 2 3 0 1 0 1 0 0 0 2 0 0 0 1 0 1 0 1 1 0 1 0 0 0 0 0 2 1 1 0 1 0 0 0 0 0 2 1 1 0 3 0 0 0 1 0 0 0 2 2 1 0 2 0 1 0 0 1 1 0 1 0 0 0 1 0 0 1 1 0 0 2 1 0 0 1 2 0 1 0 0 0 0 1 0 1 0 2 2 0 2 1 1 1 2 0 0 0 0 0 1 0 0 3 0 0 2 0 2 0 1 0 0 1 2 0 2 0 0 0 0 1 1 0 2 2 1 2 0 1 0 0 1 1 0 2 2 2 1 0 0 0 1 0 0 0 0 0 0 0 1 2 2 1 1 1 0 1 0 0 0 0 1 1 0 0 0 0 2 1 1 0 2 1 0 0 0 3 1 2 2 0 0 1 0 0 0 1 1 3 2 0 0 0 0 0 0 1 0 1 0 0 0 0 0 0 0 0 0 1 2 0 0 0 0 3 1 1 0 3 0 0 0 0 0 0 0 2 1 1 1 0 0 1 1 0 1 0 1 0 1 2 0 0 0 0 0 3 1 0 1 2 2 0 0 1 0 1 0 0 2 1 2 0 0 0 0 0 0 2 0 2 1 3 1 0 3 0 0 1 0 1 0 1 0 2 0 0 0 2 3 3 1 1 1 1 1 0 0 1 2 0 0 1 0 1 4 0 0 0 0 1 1 0 0 0 0 1 1 0 0 2 0 1 2 1 1 1 0 1 0 1 0 0 1 0 0 1 2 0 0 0 0 0 0 0 1 0 0 0 0 1 1 0 0 0 0 0 0 2 1 1 0 1 0 0 1 0 1 0 1 0 0 2 0 1 1 0 0 0 0 2 1 0 0 0 2 2 7 1 1 1 1 0 0 0 0 0 1 0 3 0 1 0 1 0 1 0 2 1 0 3 0 1 0 0 2 0 1 2 0 1 0 1 1 0 0 2 0 0 0 0 1 1 2 0 0 0 0 0 0 0 2 1 0 0 1 2 1 1 1 0 0 0 0 0 0 0 0 0 1 2 0 1 0 0 1 0 2 1 1 1 1 0 0 1 0 1 3 0 0 0 2 2 2 4 3 1 0 2 1 1 1 2 2 0 1 0 0 1 2 1 0 0 2 2 0 0 0 2 0 0 0 1 0 2 0 2 1 2 2 1 0 0 0 0 3 0 0 3 1 0 0 0 0 4 2 4 4 3 1 3 1 0 1 0 2 1 1 1 0 1 0 2 2 3 2 1 2 5 1 3 2 2 10 2 1 1 1 0 4 1 6 1 1 1 1 0 0 0 3 4 1 1 0 2 0 2 1 1 0 2 2 8 3 2 5 3 2 4 7 5 4 2 2 0 0 1 1 3 2 4 2 5 1 5 5 0 1 1 1 1 2 3 5 1 5 3 1 2 4 6 3 0 1 2 3 4 4 3 1 4 1 1 3 7 3 0 3 2 9 3 1 5 1 2 5 0 6 1 4 10 2 5 7 6 13 9 2 5 1 4 1 3 3 9 11 1 4 3 1 4 3 4 6 2 3 2 5 3 3 2 3 8 6 1 3 4 2 13 18 4 9 10 9 3 6 1 4 7 3 10 10 2 7 2 5 6 6 6 8 5 1 4 4 2 7 2 3 15 2 4 3 3 0 0 0 0 0 0 2 2 1 0 6 1 2 1 6 9 13 10 9 2 7 20 22 9 14 12 4 3 3 34 20 11 3 8 14 31 15 14 8 13 6 12 13 11 9 8 10 7 4 3 9 13 25 25 18 6 7 9 3 9 22 27 17 17 25 19 9 10 5 17 24 4 1 1 1 2 8 0 4 2 2 4 5 8 2 5 1 5 1 0 0 0 1 0 1 1 1 4 2 0 0 0 0 8 0 0 5 0 0 1 0 0 0 0 0 0 4 0 1 0 0 1 0 1 1 0 0 1 1 0 1 0 0 0 0 0 0 1 0 0 0 0 0 0 0 1 1 1 0 1 0 0 0 0 1 0 2 0 0 1 0 2 0 0 1 1 0 0 1 0 1 0 0 0 0 0 0 0 2 0 0 1 0 0 0 1 0 0 0 1 0 0 0 1 0 0 0 0 0 0 0 1 0 0 0 0 0 0 0 0 1 0 1 1 0 0 0 0 0 2 1 0 1 0 2 15 10 9 9 7 11 20 6 15 11 13 17 20 4 10 10 21 26 7 41 14 64 56 55 9 14 18 21 21 58 6 39 28 9 25 15 8 12 10 19 8 8 16 51 10 6 13 17 15 12 7 7 9 20 32 4 14 15 17 6 17 7 6 5 5 30 13 4 4 11 8 41 35 66 65 13 8 5 13 10 6 4 3 7 8 0 3 1 5 0 0 2 0 4 6 1 0 4 11 5 8 3 4 5 2 2 3 7 4 5 3 6 6 8 6 3 9 21 16 20 15 9 18 15 16 16 26 16 17 15 6 11 17 10 10 14 7 6 5 9 18 4 13 8 12 264 13 8 344 7 7 5 4 6 7 8 4 10 8 3 7 19 14 20 11 13 19 16 18 16 15 12 12 8 10 14 18 7 6 7 4 13 6 11 4 11 6 2 10 3 2 1 9 16 13 4 8 2 1 3 3 4 6 2 0 8 10 4 1 5 2 16 5 5 3 6 6 4 12 6 7 6 6 9 7 7 7 6 15 19 19 79 31 46 21 16 24 69 75 25 23 59 66 50 15 8 22 10 36 33 16 10 8 11 13 10 16 \r\n",
      "];\r\n",
      "B = [\r\n",
      "0 0 0\r\n",
      " 0 0 0\r\n",
      " 0 0 0\r\n",
      " 0 0 0\r\n",
      " 0 0 0\r\n",
      " 0 0 0\r\n",
      " 0 0 0\r\n",
      " 0 0 0\r\n",
      " 0 0 0\r\n",
      " 0 0 0\r\n",
      " 0 0 0\r\n",
      " 0 0 0\r\n",
      " 0 0 0\r\n",
      " 0 0 0\r\n",
      " 0 0 0\r\n",
      " 0 0 0\r\n",
      " 0 0 0\r\n",
      " 0 0 0\r\n",
      " 0 0 0\r\n",
      " 0 0 0\r\n",
      " 0 0 0\r\n",
      " 0 0 0\r\n",
      " 0 0 0\r\n",
      " 0 0 0\r\n",
      " 0 0 0\r\n",
      " 0 0 0\r\n",
      " 0 0 0\r\n",
      " 0 0 0\r\n",
      " 0 0 0\r\n",
      " 0 0 0\r\n",
      " 6485147 4794513 1690634\r\n",
      " 5513385 4113170 1400215\r\n",
      " 5923888 4362834 1561054\r\n"
     ]
    }
   ],
   "source": [
    "! head -n 50 $interactionfile"
   ]
  },
  {
   "cell_type": "code",
   "execution_count": null,
   "metadata": {},
   "outputs": [],
   "source": [
    "! head ./dumped-hic/HAP1/HAP1-untreated-NOKR-dumped10_10_25000.txt"
   ]
  },
  {
   "cell_type": "code",
   "execution_count": null,
   "metadata": {},
   "outputs": [],
   "source": [
    "! ls ./dumped-hic/LCL/"
   ]
  },
  {
   "cell_type": "code",
   "execution_count": null,
   "metadata": {},
   "outputs": [],
   "source": [
    "! java -jar /hdisk3/jordan/juicebox_tools.jar dump observed KR $interactionfile $chrom1 $chrom2 BP $res | grep -v INFO | grep -v HiC > $untreated_out"
   ]
  },
  {
   "cell_type": "code",
   "execution_count": 8,
   "metadata": {},
   "outputs": [],
   "source": [
    "chrom1 = 'chr1'\n",
    "chrom2 = 'chr1'\n",
    "\n",
    "! java -jar /hdisk3/jordan/juicebox_tools.jar dump eigenvector KR $interactionfile $chrom1 $chrom2 BP $res > testeigendump.txt"
   ]
  },
  {
   "cell_type": "code",
   "execution_count": 9,
   "metadata": {},
   "outputs": [
    {
     "name": "stdout",
     "output_type": "stream",
     "text": [
      "HiC file version: 8\r\n"
     ]
    }
   ],
   "source": [
    "! head testeigendump.txt"
   ]
  },
  {
   "cell_type": "code",
   "execution_count": null,
   "metadata": {},
   "outputs": [],
   "source": []
  }
 ],
 "metadata": {
  "kernelspec": {
   "display_name": "Python 3",
   "language": "python",
   "name": "python3"
  },
  "language_info": {
   "codemirror_mode": {
    "name": "ipython",
    "version": 3
   },
   "file_extension": ".py",
   "mimetype": "text/x-python",
   "name": "python",
   "nbconvert_exporter": "python",
   "pygments_lexer": "ipython3",
   "version": "3.5.2"
  }
 },
 "nbformat": 4,
 "nbformat_minor": 2
}
